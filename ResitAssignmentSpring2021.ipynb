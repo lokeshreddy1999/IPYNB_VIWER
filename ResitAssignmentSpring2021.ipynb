{
 "cells": [
  {
   "cell_type": "markdown",
   "metadata": {},
   "source": [
    "# University of Stirling\n",
    "\n",
    "# ITNPBD2, Representing and Manipulating Data\n",
    "\n",
    "# Resit Assignment Spring 2021\n",
    "\n",
    "# A Consultancy Job for Airbnb\n",
    "\n",
    "This notebook forms the assignment instructions and submission document of the assignment for ITNPBD2. Read the instructions carefully and enter code into the cells as indicated.\n",
    "\n",
    "You will need these 2 files, which were in the Zip file you downloaded from the course webpage:\n",
    "\n",
    "- AirbnbAmsterdamListings.csv\n",
    "- AirbnbAmsterdamReviews.csv\n",
    "\n",
    "The data in these files describes Airbnb listings in Amsterdam Netherlands, and reviews by customers who stayed at them. Note that the data is real and retrieved from here: http://insideairbnb.com/get-the-data.html at 15/06/2021.\n",
    "\n",
    "Your job is to process the data, as requested in the instructions in the markdown cells in this notebook."
   ]
  },
  {
   "cell_type": "markdown",
   "metadata": {},
   "source": [
    "# Completing the Assignment\n",
    "\n",
    "Rename this file to be xxxxxx_BD2 where xxxxxx is your student number, then type your code into the boxes provided. Each question is given in a markdown call, and there is an empty box beneath each one where you enter your answer. These boxes should contain 2 things:\n",
    "\n",
    "- **The code that performs the required task**\n",
    "- **Comments that explain your code**\n",
    "\n",
    "The marks available for each question are given in square brackets in each title. There are also 10 marks for good commenting and code style."
   ]
  },
  {
   "cell_type": "markdown",
   "metadata": {},
   "source": [
    "# Submission and Other Notes\n",
    "\n",
    "- Submit your notebook to the appropriate assignment webpage on Canvas when it is complete\n",
    "- Make sure the version you submit contains the results of running every cell. The output should be visible without the need to run the code again\n",
    "\n",
    "## Plagiarism\n",
    "\n",
    "Plagiarism is presenting somebody else’s work as your own. Plagiarism is a form of academic misconduct and is taken very seriously by the University. Students found to have plagiarised work can have marks deducted and, in serious cases, even be expelled from the University. Do not submit any work that is not entirely your own. Do not collaborate with or get help from anybody else with this assignment.\n",
    "\n",
    "The University’s full guidance on academic misconduct can be found here:\n",
    "\n",
    "https://www.stir.ac.uk/about/professional-services/student-academic-and-corporate-services/academic-registry/academic-policy-and-practice/quality-handbook/academic-integrity-policy-and-academic-misconduct-procedure/\n"
   ]
  },
  {
   "cell_type": "markdown",
   "metadata": {},
   "source": [
    "# 1) Open both csv files and read the contents of each into a string [5]\n",
    "\n",
    "Open the two files:\n",
    "\n",
    "- AirbnbAmsterdamListings.csv\n",
    "- AirbnbAmsterdamReviews.csv\n",
    "\n",
    "and store the text they contain in two string variables called `listings_st` and `reviews_st`.\n",
    "Then print the first 1000 characters of each string to get an idea of what is in the file"
   ]
  },
  {
   "cell_type": "code",
   "execution_count": null,
   "metadata": {},
   "outputs": [],
   "source": [
    "# Write your code and comments here"
   ]
  },
  {
   "cell_type": "markdown",
   "metadata": {},
   "source": [
    "# 2) Read the files into lists of rows [5]\n",
    "\n",
    "Read each file again, this time putting the data from each into a list where each entry in the list is a single row from the file. You should have two variables. Call them `reviews_list` and `listings_list`.\n",
    "\n",
    "Print the first three entries of each array."
   ]
  },
  {
   "cell_type": "code",
   "execution_count": null,
   "metadata": {
    "scrolled": true
   },
   "outputs": [],
   "source": [
    "# Write your code and comments here"
   ]
  },
  {
   "cell_type": "markdown",
   "metadata": {},
   "source": [
    "# 3) Read each entry in the string arrays into dictionary objects to create two lists of dictionaries [8]\n",
    "\n",
    "Iterate over the two lists, `reviews_list` and `listings_list` one at a time and produce two new lists of dictionaries. Call them `reviews_dicts` and `listings_dicts`. Do not open the files again.\n",
    "\n",
    "First item of the 2 lists represent the dictionary keys.\n",
    "\n",
    "For full marks, do this with a list comprehension.\n",
    "\n",
    "Print the first 2 entries in each list."
   ]
  },
  {
   "cell_type": "code",
   "execution_count": null,
   "metadata": {},
   "outputs": [],
   "source": [
    "# Write your code and comments here"
   ]
  },
  {
   "cell_type": "markdown",
   "metadata": {},
   "source": [
    "# 4) Prove that the type of the first entry in each list is a dictionary [2]\n",
    "\n"
   ]
  },
  {
   "cell_type": "code",
   "execution_count": null,
   "metadata": {},
   "outputs": [],
   "source": [
    "# Write your code and comments here"
   ]
  },
  {
   "cell_type": "markdown",
   "metadata": {},
   "source": [
    "# 5) List the keys for both the reviews dictionary structure and the listings dictionary structure [5]\n",
    "\n",
    "Every entry in the reviews list has the same structure, and the same is true for the listings. Use Python code to display the names of the keys in each structure.\n",
    "\n",
    "Don't print any values at this point."
   ]
  },
  {
   "cell_type": "code",
   "execution_count": null,
   "metadata": {},
   "outputs": [],
   "source": [
    "# Write your code and comments here"
   ]
  },
  {
   "cell_type": "markdown",
   "metadata": {},
   "source": [
    "# 6) Convert the amenities list for each listing into a list [7]\n",
    "\n",
    "Each listing has a field called `amenities` which contains a string that represents a list of amenities present at each listing. Use some Python code to convert each string into a list and store it back in the dictionary.\n",
    "\n",
    "Display the first amenities list before and after conversion.\n",
    "\n",
    "*Do not use `eval()`*"
   ]
  },
  {
   "cell_type": "code",
   "execution_count": null,
   "metadata": {},
   "outputs": [],
   "source": [
    "# Write your code and comments here"
   ]
  },
  {
   "cell_type": "markdown",
   "metadata": {},
   "source": [
    "# 7) Write a function that takes a user id and returns a list of every listing they have reviewed [5]\n",
    "\n",
    "The function should take __two__ arguments, the user id and the reviews list of dictionaries. Then it should return a list containing the ids of every listing that the user has reviewed. If the user id is not found, it should return an empty list.\n",
    "\n",
    "Name the function `find_reviews`  \n",
    "The list argument should default to `reviews_dicts`\n",
    "\n",
    "Test it by calling it with `24554860` and `0`"
   ]
  },
  {
   "cell_type": "code",
   "execution_count": null,
   "metadata": {},
   "outputs": [],
   "source": [
    "# Write your code and comments here"
   ]
  },
  {
   "cell_type": "markdown",
   "metadata": {},
   "source": [
    "# 8) Write another function that takes a listing id and returns the full dictionary for the associated listing [5]\n",
    "\n",
    "The function should take __two__ arguments, the listing id and the `listings_dicts` list. It should return the dictionary from `listings_dicts` that contains the given listing id in its `id` field. If the listing id is not found, it should return `None`.\n",
    "\n",
    "Name the function `find_listing`  \n",
    "The list argument should default to `listings_dicts`\n",
    "\n",
    "Test it by calling it with ``"
   ]
  },
  {
   "cell_type": "code",
   "execution_count": null,
   "metadata": {},
   "outputs": [],
   "source": [
    "# Write your code and comments here"
   ]
  },
  {
   "cell_type": "markdown",
   "metadata": {},
   "source": [
    "# 9) Now use the functions you have just written to list a reviewer might have paid per night for each stay [10]\n",
    "\n",
    "Write a *generator* function that takes a user id and yields all the prices per night for each accommodation the person with that user id has stayed at, one at a time.\n",
    "\n",
    "Call the function to get a generator object and then iterate over it to list of prices per night paid by `24554860`."
   ]
  },
  {
   "cell_type": "code",
   "execution_count": null,
   "metadata": {},
   "outputs": [],
   "source": [
    "# Write your code and comments here"
   ]
  },
  {
   "cell_type": "markdown",
   "metadata": {},
   "source": [
    "# 10) Display the image of a listing [4]\n",
    "\n",
    "The field called `picture_url` contains a URL of a listing image. Use the `requests` module to retrieve the image and display it using whatever module you like.\n",
    "\n",
    "Find the image for the product with code `26560199`"
   ]
  },
  {
   "cell_type": "code",
   "execution_count": null,
   "metadata": {},
   "outputs": [],
   "source": [
    "# Write your code and comments here"
   ]
  },
  {
   "cell_type": "markdown",
   "metadata": {},
   "source": [
    "# 11) List all the unique property types [3]\n",
    "\n",
    "Find all the unique property types mentioned in the `property_type` field of the listings data and store them in a set. Print the contents of the set."
   ]
  },
  {
   "cell_type": "code",
   "execution_count": null,
   "metadata": {},
   "outputs": [],
   "source": [
    "# Write your code and comments here"
   ]
  },
  {
   "cell_type": "markdown",
   "metadata": {},
   "source": [
    "# 12) Create Two Arrays of Price and Average Review Score [5]\n",
    "\n",
    "Create two Numpy arrays. One should contain a single entry for the price (`price`) of each listing and the other should contain the review scores value (`review_scores_value`) for that same listing.\n",
    "\n",
    "Call the arrays `prices` and `scores`\n",
    "\n",
    "If a review score is missing, skip that listing and make sure you ignore its price. Both arrays need to line up by location so that `prices[n]` refers to the same listing as `reviews[n]` for all values of `n`.\n",
    "\n",
    "You are going to use these two arrays for plotting a scatter of price against score in the next step, so make sure they are in an appropriate format for that."
   ]
  },
  {
   "cell_type": "code",
   "execution_count": null,
   "metadata": {},
   "outputs": [],
   "source": [
    "# Write your code and comments here"
   ]
  },
  {
   "cell_type": "markdown",
   "metadata": {},
   "source": [
    "# 13) Plot price against average rating [4]\n",
    "\n",
    "Produce a scatter plot showing price against rating. Label the axis correctly."
   ]
  },
  {
   "cell_type": "code",
   "execution_count": null,
   "metadata": {},
   "outputs": [],
   "source": [
    "# Write your code and comments here"
   ]
  },
  {
   "cell_type": "markdown",
   "metadata": {},
   "source": [
    "# 14) Read the dictionaries into Pandas [2]\n",
    "\n",
    "Read the two lists of dictionaries:\n",
    "\n",
    "- `listings_dicts`\n",
    "- `reviews_dicts`\n",
    "\n",
    "into pandas data frames called `listings_pd` and `reviews_pd`.\n",
    "\n",
    "Print the first 3 lines of each."
   ]
  },
  {
   "cell_type": "code",
   "execution_count": null,
   "metadata": {},
   "outputs": [],
   "source": [
    "# Write your code and comments here"
   ]
  },
  {
   "cell_type": "markdown",
   "metadata": {},
   "source": [
    "# 15) Convert the host_since field [2]\n",
    "\n",
    "Convert the host_since field in the listings dataframe to a Pandas date object, rather than the string that it currently is stored as.\n",
    "\n",
    "Re-display the top 3 rows of `listings_pd`, but only the `id` and `host_since` columns."
   ]
  },
  {
   "cell_type": "code",
   "execution_count": null,
   "metadata": {},
   "outputs": [],
   "source": [
    "# Write your code and comments here"
   ]
  },
  {
   "cell_type": "markdown",
   "metadata": {},
   "source": [
    "# 16) Add a new host_duration column [3]\n",
    "\n",
    "Add a new column to `listings_pd` that is the result of calculating for how long a listing has had its current host today in months. Call the column `host_duration`"
   ]
  },
  {
   "cell_type": "code",
   "execution_count": null,
   "metadata": {
    "scrolled": true
   },
   "outputs": [],
   "source": [
    "# Write your code and comments here"
   ]
  },
  {
   "cell_type": "markdown",
   "metadata": {},
   "source": [
    "# 17) Display the reviews for a listing [5]\n",
    "\n",
    "Use the Pandas `merge` function to find all the reviews for the listing with the id of `25428`.\n",
    "\n",
    "Display only the name of the reviewer, the name of the listing and the review text itself. There are five reviews for this listing.\n"
   ]
  },
  {
   "cell_type": "code",
   "execution_count": null,
   "metadata": {},
   "outputs": [],
   "source": [
    "# Write your code and comments here"
   ]
  },
  {
   "cell_type": "markdown",
   "metadata": {},
   "source": [
    "# 18) Find the average sentiment of each listing's reviews and plot it against the listing score [10]\n",
    "\n",
    "Use VADER in nltk to calculate the positive sentiment score for each review in `reviews_pd` and then for each listing calculate the average positive sentiment.  \n",
    "Then plot those values against the score given in `review_scores_value`. If the review score is empty skip those.\n",
    "\n",
    "Display the axis names correctly.\n",
    "\n",
    "*Note that due to the size of the dataset some of your code here might take a few minutes to execute*"
   ]
  },
  {
   "cell_type": "code",
   "execution_count": null,
   "metadata": {},
   "outputs": [],
   "source": [
    "import nltk\n",
    "# Uncomment the line below if you're unable to import the sentiment intensity analyzer\n",
    "#nltk.download('vader_lexicon')\n",
    "from nltk.sentiment.vader import SentimentIntensityAnalyzer\n"
   ]
  },
  {
   "cell_type": "code",
   "execution_count": null,
   "metadata": {},
   "outputs": [],
   "source": [
    "# Write your code and comments here"
   ]
  }
 ],
 "metadata": {
  "kernelspec": {
   "display_name": "Python 3",
   "language": "python",
   "name": "python3"
  },
  "language_info": {
   "codemirror_mode": {
    "name": "ipython",
    "version": 3
   },
   "file_extension": ".py",
   "mimetype": "text/x-python",
   "name": "python",
   "nbconvert_exporter": "python",
   "pygments_lexer": "ipython3",
   "version": "3.7.4"
  }
 },
 "nbformat": 4,
 "nbformat_minor": 2
}
